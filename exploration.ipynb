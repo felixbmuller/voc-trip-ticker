{
 "cells": [
  {
   "cell_type": "code",
   "execution_count": 25,
   "metadata": {},
   "outputs": [],
   "source": [
    "import requests\n",
    "from bs4 import BeautifulSoup as BS\n",
    "from IPython.display import HTML\n",
    "import os\n",
    "\n",
    "AGENDA_URL = \"https://www.ubc-voc.com/tripagenda/upcoming.php\"\n",
    "BASE_URL = \"https://www.ubc-voc.com\""
   ]
  },
  {
   "cell_type": "code",
   "execution_count": 5,
   "metadata": {},
   "outputs": [],
   "source": [
    "r = requests.get(AGENDA_URL)\n",
    "r.raise_for_status()\n",
    "\n",
    "bs = BS(r.text, \"html.parser\")"
   ]
  },
  {
   "cell_type": "code",
   "execution_count": 8,
   "metadata": {},
   "outputs": [],
   "source": [
    "events = bs.find_all(\"tr\")"
   ]
  },
  {
   "cell_type": "code",
   "execution_count": 9,
   "metadata": {},
   "outputs": [
    {
     "data": {
      "text/plain": [
       "<tr><td>5th, Thu. - 6th, Sun.</td><td><b>Coast Wilderness Medical Training Discount Code </b></td><td><b><a href=\"/tripagenda/details.php?tripid=2549\">Details</a></b></td></tr>"
      ]
     },
     "execution_count": 9,
     "metadata": {},
     "output_type": "execute_result"
    }
   ],
   "source": [
    "events[0]"
   ]
  },
  {
   "cell_type": "code",
   "execution_count": 20,
   "metadata": {},
   "outputs": [
    {
     "data": {
      "text/plain": [
       "<tr><td>19th, Sat. - 21st, Mon.</td><td><b>Burns and Turns 2022</b></td><td><b><a href=\"/tripagenda/details.php?tripid=2740\">Details &amp; Signup</a></b>, <a href=\"https://www.ubc-voc.com/phorum5/read.php?3,132182\">Message Board</a></td></tr>"
      ]
     },
     "execution_count": 20,
     "metadata": {},
     "output_type": "execute_result"
    }
   ],
   "source": [
    "events[10]"
   ]
  },
  {
   "cell_type": "code",
   "execution_count": 10,
   "metadata": {},
   "outputs": [],
   "source": [
    "event = events[0]"
   ]
  },
  {
   "cell_type": "code",
   "execution_count": 22,
   "metadata": {},
   "outputs": [
    {
     "data": {
      "text/plain": [
       "'/tripagenda/details.php?tripid=2740'"
      ]
     },
     "execution_count": 22,
     "metadata": {},
     "output_type": "execute_result"
    }
   ],
   "source": [
    "events[10].find(\"a\").get(\"href\")"
   ]
  },
  {
   "cell_type": "code",
   "execution_count": 29,
   "metadata": {},
   "outputs": [],
   "source": [
    "event_parts = event.find_all(\"td\")"
   ]
  },
  {
   "cell_type": "code",
   "execution_count": 32,
   "metadata": {},
   "outputs": [
    {
     "data": {
      "text/plain": [
       "'5th, Thu. - 6th, Sun.'"
      ]
     },
     "execution_count": 32,
     "metadata": {},
     "output_type": "execute_result"
    }
   ],
   "source": [
    "event_parts[0].text"
   ]
  },
  {
   "cell_type": "code",
   "execution_count": null,
   "metadata": {},
   "outputs": [],
   "source": [
    "event_parts = event.find_all(\"td\")\n",
    "event_data = {\n",
    "    \"date\": event_parts[0],\n",
    "    \"title\": event_parts[1],\n",
    "    \"link\": event.find(\"a\").get(\"href\")\n",
    "}"
   ]
  },
  {
   "cell_type": "code",
   "execution_count": 33,
   "metadata": {},
   "outputs": [],
   "source": [
    "def parse_agenda():\n",
    "\n",
    "    r = requests.get(AGENDA_URL)\n",
    "    r.raise_for_status()\n",
    "\n",
    "    bs = BS(r.text, \"html.parser\")\n",
    "\n",
    "    events = bs.find_all(\"tr\")\n",
    "\n",
    "    parsed = []\n",
    "\n",
    "    for event in events:\n",
    "\n",
    "        event_parts = event.find_all(\"td\")\n",
    "        event_data = {\n",
    "            \"date\": event_parts[0].text,\n",
    "            \"title\": event_parts[1].text,\n",
    "            \"link\": BASE_URL + event.find(\"a\").get(\"href\")\n",
    "        }\n",
    "\n",
    "        parsed.append(event_data)\n",
    "\n",
    "    return parsed"
   ]
  },
  {
   "cell_type": "code",
   "execution_count": 34,
   "metadata": {},
   "outputs": [],
   "source": [
    "trips = parse_agenda()"
   ]
  },
  {
   "cell_type": "code",
   "execution_count": 35,
   "metadata": {},
   "outputs": [
    {
     "data": {
      "text/plain": [
       "[{'date': '5th, Thu. - 6th, Sun.',\n",
       "  'title': 'Coast Wilderness Medical Training Discount Code ',\n",
       "  'link': 'https://www.ubc-voc.com/tripagenda/details.php?tripid=2549'},\n",
       " {'date': '29th, Fri. - 29th, Sat.',\n",
       "  'title': 'Partner Search Board',\n",
       "  'link': 'https://www.ubc-voc.com/tripagenda/details.php?tripid=2660'},\n",
       " {'date': '1st, Wed. - 31st, Tue.',\n",
       "  'title': 'Gear Sharing Thread',\n",
       "  'link': 'https://www.ubc-voc.com/tripagenda/details.php?tripid=2685'},\n",
       " {'date': '4th, Sat. - 30th, Sat.',\n",
       "  'title': 'Steps to the Neve! ',\n",
       "  'link': 'https://www.ubc-voc.com/tripagenda/details.php?tripid=2684'},\n",
       " {'date': '14th, Monday',\n",
       "  'title': 'Clubroom cleanup and skin matching  (WORKHIKE) ',\n",
       "  'link': 'https://www.ubc-voc.com/tripagenda/details.php?tripid=2767'},\n",
       " {'date': '15th, Tuesday',\n",
       "  'title': 'IDEA Committee Meeting(s)! ',\n",
       "  'link': 'https://www.ubc-voc.com/tripagenda/details.php?tripid=2766'},\n",
       " {'date': '16th, Wednesday',\n",
       "  'title': 'AMS Clubs Days booth [workhike]',\n",
       "  'link': 'https://www.ubc-voc.com/tripagenda/details.php?tripid=2761'},\n",
       " {'date': '17th, Thursday',\n",
       "  'title': 'VOC Park Social!',\n",
       "  'link': 'https://www.ubc-voc.com/tripagenda/details.php?tripid=2736'},\n",
       " {'date': '19th, Sat. - 21st, Mon.',\n",
       "  'title': 'Burns and Turns 2022',\n",
       "  'link': 'https://www.ubc-voc.com/tripagenda/details.php?tripid=2740'},\n",
       " {'date': '22nd, Tue. - 24th, Thu.',\n",
       "  'title': 'Reading break at Sphinx hut',\n",
       "  'link': 'https://www.ubc-voc.com/tripagenda/details.php?tripid=2762'},\n",
       " {'date': '23rd, Wed. - 25th, Fri.',\n",
       "  'title': 'Reading Break Ski Fest -- Somewhere else because Spearhead Kees and Claire Hut is full.',\n",
       "  'link': 'https://www.ubc-voc.com/tripagenda/details.php?tripid=2678'},\n",
       " {'date': '24th, Thursday',\n",
       "  'title': \"women's red heather hut laps\",\n",
       "  'link': 'https://www.ubc-voc.com/tripagenda/details.php?tripid=2758'},\n",
       " {'date': '26th, Saturday',\n",
       "  'title': 'Medium difficulty bike ride on Burnaby Mountain Park',\n",
       "  'link': 'https://www.ubc-voc.com/tripagenda/details.php?tripid=2748'},\n",
       " {'date': '26th, Sat. - 27th, Sun.',\n",
       "  'title': 'Freezy Sends - Winter Bouldering Trip at Furry Creek! Postponed to Feb 26th or 27th',\n",
       "  'link': 'https://www.ubc-voc.com/tripagenda/details.php?tripid=2752'},\n",
       " {'date': '11th, Fri. - 13th, Sun.',\n",
       "  'title': 'Steep Lines Vol.3 ',\n",
       "  'link': 'https://www.ubc-voc.com/tripagenda/details.php?tripid=2741'},\n",
       " {'date': '12th, Sat. - 13th, Sun.',\n",
       "  'title': 'AST1 Plus - Block 4',\n",
       "  'link': 'https://www.ubc-voc.com/tripagenda/details.php?tripid=2713'},\n",
       " {'date': '12th, Sat. - 20th, Sun.',\n",
       "  'title': 'AST 2 Course (2 Weekends)',\n",
       "  'link': 'https://www.ubc-voc.com/tripagenda/details.php?tripid=2742'},\n",
       " {'date': '18th, Fri. - 20th, Sun.',\n",
       "  'title': 'Spring Skaha Sends',\n",
       "  'link': 'https://www.ubc-voc.com/tripagenda/details.php?tripid=2755'},\n",
       " {'date': '19th, Sat. - 20th, Sun.',\n",
       "  'title': '[Steps to the Neve] Part 4: Moderate Overnight Ski Trip ',\n",
       "  'link': 'https://www.ubc-voc.com/tripagenda/details.php?tripid=2727'},\n",
       " {'date': '1st, Fri. - 3rd, Sun.',\n",
       "  'title': '[Steps to the Neve] Part 5: Skiing the Neve! ',\n",
       "  'link': 'https://www.ubc-voc.com/tripagenda/details.php?tripid=2728'},\n",
       " {'date': '21st, Sat. - 23rd, Mon.',\n",
       "  'title': \"Li'l Lukie's Shingle Bay May Long Weekend Social Campout\",\n",
       "  'link': 'https://www.ubc-voc.com/tripagenda/details.php?tripid=2735'},\n",
       " {'date': '25th, Sat. - 3rd, Sun.',\n",
       "  'title': 'West Coast Trail (7 days backpacking)',\n",
       "  'link': 'https://www.ubc-voc.com/tripagenda/details.php?tripid=2733'}]"
      ]
     },
     "execution_count": 35,
     "metadata": {},
     "output_type": "execute_result"
    }
   ],
   "source": [
    "trips"
   ]
  }
 ],
 "metadata": {
  "interpreter": {
   "hash": "cecbf34cbf33719fb38c6ed29daa05e20898af6ad162e68d792cab7a083227cb"
  },
  "kernelspec": {
   "display_name": "Python 3.9.10 ('voc-trip-ticker')",
   "language": "python",
   "name": "python3"
  },
  "language_info": {
   "codemirror_mode": {
    "name": "ipython",
    "version": 3
   },
   "file_extension": ".py",
   "mimetype": "text/x-python",
   "name": "python",
   "nbconvert_exporter": "python",
   "pygments_lexer": "ipython3",
   "version": "3.9.10"
  },
  "orig_nbformat": 4
 },
 "nbformat": 4,
 "nbformat_minor": 2
}
